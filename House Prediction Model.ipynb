{
 "cells": [
  {
   "cell_type": "code",
   "execution_count": 1,
   "metadata": {},
   "outputs": [],
   "source": [
    "import numpy as np\n",
    "import pandas as pd\n",
    "import matplotlib.pyplot as plt\n",
    "import seaborn as sns\n",
    "import mpl_toolkits\n",
    "%matplotlib inline"
   ]
  },
  {
   "cell_type": "code",
   "execution_count": 2,
   "metadata": {
    "scrolled": false
   },
   "outputs": [],
   "source": [
    "data = pd.read_csv(r\"C:\\Users\\sean812\\Desktop\\Internship\\checklist\\valuations_project_datacleaned.csv\", encoding='latin -1')"
   ]
  },
  {
   "cell_type": "code",
   "execution_count": 3,
   "metadata": {},
   "outputs": [
    {
     "data": {
      "text/html": [
       "<div>\n",
       "<style scoped>\n",
       "    .dataframe tbody tr th:only-of-type {\n",
       "        vertical-align: middle;\n",
       "    }\n",
       "\n",
       "    .dataframe tbody tr th {\n",
       "        vertical-align: top;\n",
       "    }\n",
       "\n",
       "    .dataframe thead th {\n",
       "        text-align: right;\n",
       "    }\n",
       "</style>\n",
       "<table border=\"1\" class=\"dataframe\">\n",
       "  <thead>\n",
       "    <tr style=\"text-align: right;\">\n",
       "      <th></th>\n",
       "      <th>Unnamed: 0</th>\n",
       "      <th>listing_price</th>\n",
       "      <th>property_type_id</th>\n",
       "      <th>city</th>\n",
       "      <th>latitude</th>\n",
       "      <th>longitude</th>\n",
       "      <th>floor_area_sqm</th>\n",
       "      <th>bedrooms</th>\n",
       "      <th>bathrooms</th>\n",
       "      <th>car_spaces</th>\n",
       "      <th>count</th>\n",
       "    </tr>\n",
       "  </thead>\n",
       "  <tbody>\n",
       "    <tr>\n",
       "      <th>0</th>\n",
       "      <td>0</td>\n",
       "      <td>74000000.0</td>\n",
       "      <td>2.0</td>\n",
       "      <td>Makati</td>\n",
       "      <td>14.559030</td>\n",
       "      <td>121.028470</td>\n",
       "      <td>309.0</td>\n",
       "      <td>3.0</td>\n",
       "      <td>3.0</td>\n",
       "      <td>3.0</td>\n",
       "      <td>26.0</td>\n",
       "    </tr>\n",
       "    <tr>\n",
       "      <th>1</th>\n",
       "      <td>1</td>\n",
       "      <td>7500000.0</td>\n",
       "      <td>1.0</td>\n",
       "      <td>Makati</td>\n",
       "      <td>14.558375</td>\n",
       "      <td>121.022123</td>\n",
       "      <td>41.0</td>\n",
       "      <td>1.0</td>\n",
       "      <td>1.0</td>\n",
       "      <td>0.0</td>\n",
       "      <td>10.0</td>\n",
       "    </tr>\n",
       "    <tr>\n",
       "      <th>2</th>\n",
       "      <td>2</td>\n",
       "      <td>19500000.0</td>\n",
       "      <td>2.0</td>\n",
       "      <td>Makati</td>\n",
       "      <td>14.556770</td>\n",
       "      <td>121.015400</td>\n",
       "      <td>162.0</td>\n",
       "      <td>3.0</td>\n",
       "      <td>3.0</td>\n",
       "      <td>1.0</td>\n",
       "      <td>3.0</td>\n",
       "    </tr>\n",
       "    <tr>\n",
       "      <th>3</th>\n",
       "      <td>3</td>\n",
       "      <td>65000000.0</td>\n",
       "      <td>2.0</td>\n",
       "      <td>Makati</td>\n",
       "      <td>14.566514</td>\n",
       "      <td>121.039021</td>\n",
       "      <td>193.0</td>\n",
       "      <td>3.0</td>\n",
       "      <td>3.0</td>\n",
       "      <td>2.0</td>\n",
       "      <td>16.0</td>\n",
       "    </tr>\n",
       "    <tr>\n",
       "      <th>4</th>\n",
       "      <td>4</td>\n",
       "      <td>15500000.0</td>\n",
       "      <td>2.0</td>\n",
       "      <td>Makati</td>\n",
       "      <td>14.556770</td>\n",
       "      <td>121.015400</td>\n",
       "      <td>156.0</td>\n",
       "      <td>2.0</td>\n",
       "      <td>3.0</td>\n",
       "      <td>1.0</td>\n",
       "      <td>15.0</td>\n",
       "    </tr>\n",
       "  </tbody>\n",
       "</table>\n",
       "</div>"
      ],
      "text/plain": [
       "   Unnamed: 0  listing_price  property_type_id    city   latitude   longitude  \\\n",
       "0           0     74000000.0               2.0  Makati  14.559030  121.028470   \n",
       "1           1      7500000.0               1.0  Makati  14.558375  121.022123   \n",
       "2           2     19500000.0               2.0  Makati  14.556770  121.015400   \n",
       "3           3     65000000.0               2.0  Makati  14.566514  121.039021   \n",
       "4           4     15500000.0               2.0  Makati  14.556770  121.015400   \n",
       "\n",
       "   floor_area_sqm  bedrooms  bathrooms  car_spaces  count  \n",
       "0           309.0       3.0        3.0         3.0   26.0  \n",
       "1            41.0       1.0        1.0         0.0   10.0  \n",
       "2           162.0       3.0        3.0         1.0    3.0  \n",
       "3           193.0       3.0        3.0         2.0   16.0  \n",
       "4           156.0       2.0        3.0         1.0   15.0  "
      ]
     },
     "execution_count": 3,
     "metadata": {},
     "output_type": "execute_result"
    }
   ],
   "source": [
    "data.head()"
   ]
  },
  {
   "cell_type": "code",
   "execution_count": 4,
   "metadata": {},
   "outputs": [
    {
     "data": {
      "text/html": [
       "<div>\n",
       "<style scoped>\n",
       "    .dataframe tbody tr th:only-of-type {\n",
       "        vertical-align: middle;\n",
       "    }\n",
       "\n",
       "    .dataframe tbody tr th {\n",
       "        vertical-align: top;\n",
       "    }\n",
       "\n",
       "    .dataframe thead th {\n",
       "        text-align: right;\n",
       "    }\n",
       "</style>\n",
       "<table border=\"1\" class=\"dataframe\">\n",
       "  <thead>\n",
       "    <tr style=\"text-align: right;\">\n",
       "      <th></th>\n",
       "      <th>Unnamed: 0</th>\n",
       "      <th>listing_price</th>\n",
       "      <th>property_type_id</th>\n",
       "      <th>latitude</th>\n",
       "      <th>longitude</th>\n",
       "      <th>floor_area_sqm</th>\n",
       "      <th>bedrooms</th>\n",
       "      <th>bathrooms</th>\n",
       "      <th>car_spaces</th>\n",
       "      <th>count</th>\n",
       "    </tr>\n",
       "  </thead>\n",
       "  <tbody>\n",
       "    <tr>\n",
       "      <th>count</th>\n",
       "      <td>10916.000000</td>\n",
       "      <td>1.091600e+04</td>\n",
       "      <td>10916.000000</td>\n",
       "      <td>10916.000000</td>\n",
       "      <td>10916.000000</td>\n",
       "      <td>10916.000000</td>\n",
       "      <td>10916.000000</td>\n",
       "      <td>10916.000000</td>\n",
       "      <td>10916.000000</td>\n",
       "      <td>10916.000000</td>\n",
       "    </tr>\n",
       "    <tr>\n",
       "      <th>mean</th>\n",
       "      <td>612.236900</td>\n",
       "      <td>4.490305e+07</td>\n",
       "      <td>2.497069</td>\n",
       "      <td>14.528970</td>\n",
       "      <td>121.008368</td>\n",
       "      <td>245.669175</td>\n",
       "      <td>3.139428</td>\n",
       "      <td>3.001741</td>\n",
       "      <td>5.770795</td>\n",
       "      <td>7.429919</td>\n",
       "    </tr>\n",
       "    <tr>\n",
       "      <th>std</th>\n",
       "      <td>445.271396</td>\n",
       "      <td>1.370464e+08</td>\n",
       "      <td>0.716976</td>\n",
       "      <td>0.206541</td>\n",
       "      <td>2.581229</td>\n",
       "      <td>298.448659</td>\n",
       "      <td>3.065326</td>\n",
       "      <td>3.113798</td>\n",
       "      <td>43.770932</td>\n",
       "      <td>10.996786</td>\n",
       "    </tr>\n",
       "    <tr>\n",
       "      <th>min</th>\n",
       "      <td>0.000000</td>\n",
       "      <td>0.000000e+00</td>\n",
       "      <td>1.000000</td>\n",
       "      <td>1.000000</td>\n",
       "      <td>-88.940620</td>\n",
       "      <td>1.000000</td>\n",
       "      <td>0.000000</td>\n",
       "      <td>1.000000</td>\n",
       "      <td>0.000000</td>\n",
       "      <td>0.000000</td>\n",
       "    </tr>\n",
       "    <tr>\n",
       "      <th>25%</th>\n",
       "      <td>242.000000</td>\n",
       "      <td>5.900000e+06</td>\n",
       "      <td>2.000000</td>\n",
       "      <td>14.481893</td>\n",
       "      <td>121.023680</td>\n",
       "      <td>77.000000</td>\n",
       "      <td>2.000000</td>\n",
       "      <td>2.000000</td>\n",
       "      <td>1.000000</td>\n",
       "      <td>0.000000</td>\n",
       "    </tr>\n",
       "    <tr>\n",
       "      <th>50%</th>\n",
       "      <td>522.000000</td>\n",
       "      <td>1.150000e+07</td>\n",
       "      <td>3.000000</td>\n",
       "      <td>14.546100</td>\n",
       "      <td>121.030100</td>\n",
       "      <td>150.000000</td>\n",
       "      <td>3.000000</td>\n",
       "      <td>3.000000</td>\n",
       "      <td>2.000000</td>\n",
       "      <td>3.000000</td>\n",
       "    </tr>\n",
       "    <tr>\n",
       "      <th>75%</th>\n",
       "      <td>908.000000</td>\n",
       "      <td>2.300000e+07</td>\n",
       "      <td>3.000000</td>\n",
       "      <td>14.570229</td>\n",
       "      <td>121.055300</td>\n",
       "      <td>330.000000</td>\n",
       "      <td>4.000000</td>\n",
       "      <td>4.000000</td>\n",
       "      <td>2.000000</td>\n",
       "      <td>10.000000</td>\n",
       "    </tr>\n",
       "    <tr>\n",
       "      <th>max</th>\n",
       "      <td>1780.000000</td>\n",
       "      <td>7.900000e+09</td>\n",
       "      <td>3.000000</td>\n",
       "      <td>16.366670</td>\n",
       "      <td>121.833390</td>\n",
       "      <td>9216.570000</td>\n",
       "      <td>268.000000</td>\n",
       "      <td>268.000000</td>\n",
       "      <td>2000.000000</td>\n",
       "      <td>84.000000</td>\n",
       "    </tr>\n",
       "  </tbody>\n",
       "</table>\n",
       "</div>"
      ],
      "text/plain": [
       "         Unnamed: 0  listing_price  property_type_id      latitude  \\\n",
       "count  10916.000000   1.091600e+04      10916.000000  10916.000000   \n",
       "mean     612.236900   4.490305e+07          2.497069     14.528970   \n",
       "std      445.271396   1.370464e+08          0.716976      0.206541   \n",
       "min        0.000000   0.000000e+00          1.000000      1.000000   \n",
       "25%      242.000000   5.900000e+06          2.000000     14.481893   \n",
       "50%      522.000000   1.150000e+07          3.000000     14.546100   \n",
       "75%      908.000000   2.300000e+07          3.000000     14.570229   \n",
       "max     1780.000000   7.900000e+09          3.000000     16.366670   \n",
       "\n",
       "          longitude  floor_area_sqm      bedrooms     bathrooms    car_spaces  \\\n",
       "count  10916.000000    10916.000000  10916.000000  10916.000000  10916.000000   \n",
       "mean     121.008368      245.669175      3.139428      3.001741      5.770795   \n",
       "std        2.581229      298.448659      3.065326      3.113798     43.770932   \n",
       "min      -88.940620        1.000000      0.000000      1.000000      0.000000   \n",
       "25%      121.023680       77.000000      2.000000      2.000000      1.000000   \n",
       "50%      121.030100      150.000000      3.000000      3.000000      2.000000   \n",
       "75%      121.055300      330.000000      4.000000      4.000000      2.000000   \n",
       "max      121.833390     9216.570000    268.000000    268.000000   2000.000000   \n",
       "\n",
       "              count  \n",
       "count  10916.000000  \n",
       "mean       7.429919  \n",
       "std       10.996786  \n",
       "min        0.000000  \n",
       "25%        0.000000  \n",
       "50%        3.000000  \n",
       "75%       10.000000  \n",
       "max       84.000000  "
      ]
     },
     "execution_count": 4,
     "metadata": {},
     "output_type": "execute_result"
    }
   ],
   "source": [
    "data.describe()"
   ]
  },
  {
   "cell_type": "code",
   "execution_count": 5,
   "metadata": {},
   "outputs": [
    {
     "name": "stdout",
     "output_type": "stream",
     "text": [
      "<class 'pandas.core.frame.DataFrame'>\n",
      "RangeIndex: 10916 entries, 0 to 10915\n",
      "Data columns (total 11 columns):\n",
      " #   Column            Non-Null Count  Dtype  \n",
      "---  ------            --------------  -----  \n",
      " 0   Unnamed: 0        10916 non-null  int64  \n",
      " 1   listing_price     10916 non-null  float64\n",
      " 2   property_type_id  10916 non-null  float64\n",
      " 3   city              10916 non-null  object \n",
      " 4   latitude          10916 non-null  float64\n",
      " 5   longitude         10916 non-null  float64\n",
      " 6   floor_area_sqm    10916 non-null  float64\n",
      " 7   bedrooms          10916 non-null  float64\n",
      " 8   bathrooms         10916 non-null  float64\n",
      " 9   car_spaces        10916 non-null  float64\n",
      " 10  count             10916 non-null  float64\n",
      "dtypes: float64(9), int64(1), object(1)\n",
      "memory usage: 938.2+ KB\n"
     ]
    },
    {
     "data": {
      "text/plain": [
       "Unnamed: 0          0\n",
       "listing_price       0\n",
       "property_type_id    0\n",
       "city                0\n",
       "latitude            0\n",
       "longitude           0\n",
       "floor_area_sqm      0\n",
       "bedrooms            0\n",
       "bathrooms           0\n",
       "car_spaces          0\n",
       "count               0\n",
       "dtype: int64"
      ]
     },
     "execution_count": 5,
     "metadata": {},
     "output_type": "execute_result"
    }
   ],
   "source": [
    "#We check there are no missing values and no object data types\n",
    "data.info()\n",
    "data.isnull().sum()"
   ]
  },
  {
   "cell_type": "code",
   "execution_count": 6,
   "metadata": {},
   "outputs": [
    {
     "data": {
      "text/plain": [
       "<AxesSubplot:>"
      ]
     },
     "execution_count": 6,
     "metadata": {},
     "output_type": "execute_result"
    },
    {
     "data": {
      "image/png": "[encoded data removed]",
      "text/plain": [
       "<Figure size 720x432 with 2 Axes>"
      ]
     },
     "metadata": {
      "needs_background": "light"
     },
     "output_type": "display_data"
    }
   ],
   "source": [
    "#Heatmap to plot all correlations between features\n",
    "plt.figure(figsize=(10,6))\n",
    "sns.heatmap(data.corr(), annot=True, fmt='.0%')"
   ]
  },
  {
   "cell_type": "code",
   "execution_count": 7,
   "metadata": {},
   "outputs": [
    {
     "name": "stdout",
     "output_type": "stream",
     "text": [
      "listing_price       1.000000\n",
      "floor_area_sqm      0.648277\n",
      "bathrooms           0.369815\n",
      "bedrooms            0.352648\n",
      "property_type_id    0.150074\n",
      "Unnamed: 0          0.120713\n",
      "latitude            0.008957\n",
      "car_spaces          0.003096\n",
      "longitude           0.001567\n",
      "count              -0.057012\n",
      "Name: listing_price, dtype: float64\n"
     ]
    },
    {
     "data": {
      "text/plain": [
       "<AxesSubplot:>"
      ]
     },
     "execution_count": 7,
     "metadata": {},
     "output_type": "execute_result"
    },
    {
     "data": {
      "image/png": "[encoded data removed]",
      "text/plain": [
       "<Figure size 432x288 with 1 Axes>"
      ]
     },
     "metadata": {
      "needs_background": "light"
     },
     "output_type": "display_data"
    }
   ],
   "source": [
    "#Calculate and order correlations\n",
    "correlations = data.corr()['listing_price'].sort_values(ascending=False)\n",
    "print(correlations)\n",
    "correlations.plot(kind='bar')"
   ]
  },
  {
   "cell_type": "code",
   "execution_count": 8,
   "metadata": {},
   "outputs": [
    {
     "name": "stdout",
     "output_type": "stream",
     "text": [
      "listing_price        True\n",
      "floor_area_sqm       True\n",
      "bathrooms            True\n",
      "bedrooms             True\n",
      "property_type_id    False\n",
      "Unnamed: 0          False\n",
      "latitude            False\n",
      "car_spaces          False\n",
      "longitude           False\n",
      "count               False\n",
      "Name: listing_price, dtype: bool\n"
     ]
    }
   ],
   "source": [
    "print(abs(correlations) > 0.2)\n"
   ]
  },
  {
   "cell_type": "code",
   "execution_count": 9,
   "metadata": {},
   "outputs": [
    {
     "data": {
      "text/plain": [
       "<function seaborn.utils.despine(fig=None, ax=None, top=True, right=True, left=False, bottom=False, offset=None, trim=False)>"
      ]
     },
     "execution_count": 9,
     "metadata": {},
     "output_type": "execute_result"
    },
    {
     "data": {
      "image/png": "[encoded data removed]",
      "text/plain": [
       "<Figure size 432x288 with 1 Axes>"
      ]
     },
     "metadata": {
      "needs_background": "light"
     },
     "output_type": "display_data"
    }
   ],
   "source": [
    "data['bedrooms'].value_counts().plot(kind='bar')\n",
    "plt.title('number of Bedroom')\n",
    "plt.xlabel('Bedrooms')\n",
    "plt.ylabel('count')\n",
    "sns.despine"
   ]
  },
  {
   "cell_type": "code",
   "execution_count": 29,
   "metadata": {},
   "outputs": [
    {
     "data": {
      "text/plain": [
       "<Figure size 720x720 with 0 Axes>"
      ]
     },
     "metadata": {},
     "output_type": "display_data"
    },
    {
     "data": {
      "image/png": "[encoded data removed]",
      "text/plain": [
       "<Figure size 720x720 with 3 Axes>"
      ]
     },
     "metadata": {
      "needs_background": "light"
     },
     "output_type": "display_data"
    }
   ],
   "source": [
    "plt.figure(figsize=(10,10))\n",
    "sns.jointplot(x=data.latitude.values, y=data.longitude.values, height=10)\n",
    "plt.ylabel('longitude', fontsize = 12)\n",
    "plt.xlabel ('latitude', fontsize = 12)\n",
    "plt.show()"
   ]
  },
  {
   "cell_type": "code",
   "execution_count": 11,
   "metadata": {},
   "outputs": [
    {
     "data": {
      "text/plain": [
       "Text(0.5, 1.0, 'Price vs Square Feet')"
      ]
     },
     "execution_count": 11,
     "metadata": {},
     "output_type": "execute_result"
    },
    {
     "data": {
      "image/png": "[encoded data removed]",
      "text/plain": [
       "<Figure size 432x288 with 1 Axes>"
      ]
     },
     "metadata": {
      "needs_background": "light"
     },
     "output_type": "display_data"
    }
   ],
   "source": [
    "plt.scatter(data.listing_price,data.floor_area_sqm)\n",
    "plt.title(\"Price vs Square Feet\")"
   ]
  },
  {
   "cell_type": "code",
   "execution_count": 12,
   "metadata": {},
   "outputs": [
    {
     "data": {
      "text/plain": [
       "Text(0.5, 1.0, 'Price vs longitude ')"
      ]
     },
     "execution_count": 12,
     "metadata": {},
     "output_type": "execute_result"
    },
    {
     "data": {
      "image/png": "[encoded data removed]",
      "text/plain": [
       "<Figure size 432x288 with 1 Axes>"
      ]
     },
     "metadata": {
      "needs_background": "light"
     },
     "output_type": "display_data"
    }
   ],
   "source": [
    "plt.scatter(data.listing_price,data.longitude)\n",
    "plt.title(\"Price vs longitude \")"
   ]
  },
  {
   "cell_type": "code",
   "execution_count": 13,
   "metadata": {},
   "outputs": [
    {
     "data": {
      "text/plain": [
       "Text(0.5, 1.0, 'Latitude vs Price')"
      ]
     },
     "execution_count": 13,
     "metadata": {},
     "output_type": "execute_result"
    },
    {
     "data": {
      "image/png": "[encoded data removed]",
      "text/plain": [
       "<Figure size 432x288 with 1 Axes>"
      ]
     },
     "metadata": {
      "needs_background": "light"
     },
     "output_type": "display_data"
    }
   ],
   "source": [
    "plt.scatter(data.listing_price,data.latitude)\n",
    "plt.xlabel(\"listing_price\")\n",
    "plt.ylabel('latitude')\n",
    "plt.title(\"Latitude vs Price\")"
   ]
  },
  {
   "cell_type": "code",
   "execution_count": 14,
   "metadata": {},
   "outputs": [
    {
     "data": {
      "image/png": "[encoded data removed]",
      "text/plain": [
       "<Figure size 432x288 with 1 Axes>"
      ]
     },
     "metadata": {
      "needs_background": "light"
     },
     "output_type": "display_data"
    },
    {
     "data": {
      "text/plain": [
       "<function seaborn.utils.despine(fig=None, ax=None, top=True, right=True, left=False, bottom=False, offset=None, trim=False)>"
      ]
     },
     "execution_count": 14,
     "metadata": {},
     "output_type": "execute_result"
    }
   ],
   "source": [
    "plt.scatter(data.bedrooms,data.listing_price)\n",
    "plt.title(\"Bedroom and Price \")\n",
    "plt.xlabel(\"bedrooms\")\n",
    "plt.ylabel(\"Price\")\n",
    "plt.show()\n",
    "sns.despine"
   ]
  },
  {
   "cell_type": "code",
   "execution_count": 15,
   "metadata": {},
   "outputs": [
    {
     "data": {
      "text/plain": [
       "<matplotlib.collections.PathCollection at 0x1e06be38670>"
      ]
     },
     "execution_count": 15,
     "metadata": {},
     "output_type": "execute_result"
    },
    {
     "data": {
      "image/png": "[encoded data removed]",
      "text/plain": [
       "<Figure size 432x288 with 1 Axes>"
      ]
     },
     "metadata": {
      "needs_background": "light"
     },
     "output_type": "display_data"
    }
   ],
   "source": [
    "plt.scatter((data['floor_area_sqm']),data['listing_price'])"
   ]
  },
  {
   "cell_type": "code",
   "execution_count": 16,
   "metadata": {},
   "outputs": [],
   "source": [
    "train1 = data.drop(['city', 'listing_price'],axis=1)\n",
    "labels = data['listing_price']"
   ]
  },
  {
   "cell_type": "code",
   "execution_count": 17,
   "metadata": {},
   "outputs": [],
   "source": [
    "from sklearn.linear_model import LinearRegression\n"
   ]
  },
  {
   "cell_type": "code",
   "execution_count": 18,
   "metadata": {},
   "outputs": [],
   "source": [
    "reg = LinearRegression()\n"
   ]
  },
  {
   "cell_type": "code",
   "execution_count": 36,
   "metadata": {},
   "outputs": [],
   "source": [
    "from sklearn.model_selection import train_test_split\n"
   ]
  },
  {
   "cell_type": "code",
   "execution_count": 37,
   "metadata": {},
   "outputs": [],
   "source": [
    "x_train , x_test , y_train , y_test = train_test_split(train1 , labels , test_size = 0.20,random_state =0)\n"
   ]
  },
  {
   "cell_type": "code",
   "execution_count": 38,
   "metadata": {},
   "outputs": [
    {
     "data": {
      "text/plain": [
       "LinearRegression()"
      ]
     },
     "execution_count": 38,
     "metadata": {},
     "output_type": "execute_result"
    }
   ],
   "source": [
    "reg.fit(x_train,y_train)\n"
   ]
  },
  {
   "cell_type": "code",
   "execution_count": 39,
   "metadata": {},
   "outputs": [
    {
     "data": {
      "text/plain": [
       "0.6433674394685056"
      ]
     },
     "execution_count": 39,
     "metadata": {},
     "output_type": "execute_result"
    }
   ],
   "source": [
    "#predicted score\n",
    "reg.score(x_test,y_test)"
   ]
  },
  {
   "cell_type": "code",
   "execution_count": 40,
   "metadata": {},
   "outputs": [],
   "source": [
    "from sklearn import ensemble\n",
    "clf = ensemble.GradientBoostingRegressor(n_estimators = 400, max_depth = 5, min_samples_split = 2,\n",
    "          learning_rate = 0.1, loss = 'ls')"
   ]
  },
  {
   "cell_type": "code",
   "execution_count": 41,
   "metadata": {},
   "outputs": [
    {
     "data": {
      "text/plain": [
       "GradientBoostingRegressor(max_depth=5, n_estimators=400)"
      ]
     },
     "execution_count": 41,
     "metadata": {},
     "output_type": "execute_result"
    }
   ],
   "source": [
    "clf.fit(x_train, y_train)"
   ]
  },
  {
   "cell_type": "code",
   "execution_count": 42,
   "metadata": {},
   "outputs": [
    {
     "data": {
      "text/plain": [
       "0.9079168916528655"
      ]
     },
     "execution_count": 42,
     "metadata": {},
     "output_type": "execute_result"
    }
   ],
   "source": [
    "#predicted score with gboost\n",
    "clf.score(x_test,y_test)"
   ]
  },
  {
   "cell_type": "code",
   "execution_count": null,
   "metadata": {},
   "outputs": [],
   "source": []
  }
 ],
 "metadata": {
  "kernelspec": {
   "display_name": "Python 3",
   "language": "python",
   "name": "python3"
  },
  "language_info": {
   "codemirror_mode": {
    "name": "ipython",
    "version": 3
   },
   "file_extension": ".py",
   "mimetype": "text/x-python",
   "name": "python",
   "nbconvert_exporter": "python",
   "pygments_lexer": "ipython3",
   "version": "3.8.5"
  }
 },
 "nbformat": 4,
 "nbformat_minor": 4
}
